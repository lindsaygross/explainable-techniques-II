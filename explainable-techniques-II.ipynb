{
 "cells": [
  {
   "cell_type": "markdown",
   "id": "48f09d29",
   "metadata": {},
   "source": [
    "# **AIPI 590 - XAI | Explainable Techniques**\n",
    "### Explainable Techniques (PDP, ICE, ALE)\n",
    "### Lindsay Gross\n",
    "\n",
    "[![Open In Collab](https://colab.research.google.com/assets/colab-badge.svg)](https://colab.research.google.com/github/lindsaygross/explainable-techniques-II/blob/main/explainable-techniques-II.ipynb)\n",
    "\n",
    "\n",
    "\n",
    "\n",
    "This notebook provides ...\n",
    "\n",
    "\n",
    "\n"
   ]
  },
  {
   "cell_type": "code",
   "execution_count": null,
   "id": "1cdd4105",
   "metadata": {
    "vscode": {
     "languageId": "plaintext"
    }
   },
   "outputs": [],
   "source": [
    "!pip install numpy==1.25.2 pandas==2.0.3 scikit-learn==1.2.2 shap==0.45.1\n",
    "!pip install git+https://github.com/MaximeJumelle/ALEPython.git@dev#egg=alepython"
   ]
  },
  {
   "cell_type": "code",
   "execution_count": null,
   "id": "dc69ebae",
   "metadata": {
    "vscode": {
     "languageId": "plaintext"
    }
   },
   "outputs": [],
   "source": [
    "# Data\n",
    "import numpy as np\n",
    "import pandas as pd\n",
    "import matplotlib.pyplot as plt\n",
    "\n",
    "# Models\n",
    "import xgboost\n",
    "from sklearn.model_selection import train_test_split\n",
    "\n",
    "# XAI\n",
    "import shap\n",
    "from alepython import ale_plot\n",
    "from sklearn.inspection import PartialDependenceDisplay\n",
    "from sklearn.inspection import permutation_importance\n",
    "\n",
    "np.random.seed(1)"
   ]
  },
  {
   "cell_type": "markdown",
   "id": "1a8bbf9d",
   "metadata": {},
   "source": [
    "**Dataset**\n",
    "We will use the classic [UCI adult income dataset](https://archive.ics.uci.edu/dataset/2/adult). This is a classification task to predict if people made over $50k in the 1990's.\n",
    "\n",
    "**Model**\n",
    "We will train an XGBoost classifier model with default parameters for explanatory purposes. We are also performing a 50-50 train/test split for optimization purposes."
   ]
  },
  {
   "cell_type": "code",
   "execution_count": null,
   "id": "1900a75e",
   "metadata": {
    "vscode": {
     "languageId": "plaintext"
    }
   },
   "outputs": [],
   "source": [
    "# Load Data from shap library\n",
    "X,y = shap.datasets.adult()\n",
    "\n",
    "# Train XGBoost model\n",
    "X_train, X_test, y_train, y_test = train_test_split(X, y, test_size=0.5, random_state=42)\n",
    "model = xgboost.XGBClassifier().fit(X_train, y_train)"
   ]
  },
  {
   "cell_type": "markdown",
   "id": "7b08b3fe",
   "metadata": {},
   "source": [
    "## Partial Dependence Plots (PDP) 📈\n",
    "\n",
    "A Partial Dependence Plot (PDP or PD) shows the marginal effect one or two features have on the predicted outcome of a model [Paper, 2001](https://jerryfriedman.su.domains/ftp/trebst.pdf)\n",
    "\n",
    "**How it Works:**\n",
    "1. Select feature of interest\n",
    "2. For every instance in training dataset:\n",
    "* Keep all other features the same, create variants of the instance by replacing the feature’s value with values from a grid\n",
    "* Make predictions with the black box model for newly created instances\n",
    "* You now have a set of points for an instance with the feature value from the grid and the respective predictions\n",
    "3. Average across all instances and plot\n",
    "\n",
    "Here we will show both a built-in library implementation, [scikit learn's Partial Dependence Display](https://scikit-learn.org/stable/modules/generated/sklearn.inspection.PartialDependenceDisplay.html) and we will build our own implementation in numpy.\n"
   ]
  },
  {
   "cell_type": "markdown",
   "id": "d8333359",
   "metadata": {},
   "source": [
    "#### Using PartialDependenceDisplay"
   ]
  },
  {
   "cell_type": "code",
   "execution_count": null,
   "id": "52e5dafd",
   "metadata": {
    "vscode": {
     "languageId": "plaintext"
    }
   },
   "outputs": [],
   "source": [
    "# Choose the feature of interest\n",
    "features = [\"Age\"]\n",
    "\n",
    "# Use PartialDependenceDisplay to plot PDP\n",
    "PartialDependenceDisplay.from_estimator(model, X_test, features, kind='average') #kind='both'"
   ]
  },
  {
   "cell_type": "markdown",
   "id": "71b71f22",
   "metadata": {},
   "source": [
    "#### Build our own PDP with numpy\n",
    "\n",
    "When we build our own, you will notice we build our own grid of values and can change the size of our grid.\n",
    "\n",
    "This is why you may see slight variations between the PDP created with numpy versus the PartialDependenceDisplay from scikit learn."
   ]
  }
 ],
 "metadata": {
  "language_info": {
   "name": "python"
  }
 },
 "nbformat": 4,
 "nbformat_minor": 5
}
