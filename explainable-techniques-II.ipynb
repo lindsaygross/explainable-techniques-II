{
  "cells": [
    {
      "cell_type": "markdown",
      "id": "48f09d29",
      "metadata": {
        "id": "48f09d29"
      },
      "source": [
        "# **AIPI 590 - XAI | Explainable Techniques II**\n",
        "### Explainable Techniques II (PDP, ICE, ALE)\n",
        "\n",
        "\n",
        "Author: Lindsay Gross\n",
        "\n",
        "\n",
        "Dataset: Lifestyle and Sleep Patterns - Health Patterns in Sleep\n",
        "\n",
        "\n",
        "License: CC0: Public Domain\n",
        "\n",
        "\n",
        "Collaborators: Minahil Fatima (Owner)\n",
        "\n",
        "\n",
        "Source: https://www.kaggle.com/datasets/minahilfatima12328/lifestyle-and-sleep-patterns?resource=download\n",
        "\n",
        "\n",
        "[![Open In Collab](https://colab.research.google.com/assets/colab-badge.svg)](https://colab.research.google.com/github/lindsaygross/explainable-techniques-II/blob/main/explainable-techniques-II.ipynb)\n",
        "\n",
        "\n",
        "\n",
        "\n",
        "This notebook provides ...\n",
        "\n",
        "\n",
        "\n"
      ]
    },
    {
      "cell_type": "code",
      "execution_count": 5,
      "id": "1cdd4105",
      "metadata": {
        "id": "1cdd4105",
        "outputId": "42e56093-08da-4870-f572-546e0bbb6081",
        "colab": {
          "base_uri": "https://localhost:8080/"
        }
      },
      "outputs": [
        {
          "output_type": "stream",
          "name": "stdout",
          "text": [
            "Collecting numpy==1.25.2\n",
            "  Using cached numpy-1.25.2.tar.gz (10.8 MB)\n",
            "  Installing build dependencies ... \u001b[?25l\u001b[?25hdone\n",
            "  \u001b[1;31merror\u001b[0m: \u001b[1msubprocess-exited-with-error\u001b[0m\n",
            "  \n",
            "  \u001b[31m×\u001b[0m \u001b[32mGetting requirements to build wheel\u001b[0m did not run successfully.\n",
            "  \u001b[31m│\u001b[0m exit code: \u001b[1;36m1\u001b[0m\n",
            "  \u001b[31m╰─>\u001b[0m See above for output.\n",
            "  \n",
            "  \u001b[1;35mnote\u001b[0m: This error originates from a subprocess, and is likely not a problem with pip.\n",
            "  Getting requirements to build wheel ... \u001b[?25l\u001b[?25herror\n",
            "\u001b[1;31merror\u001b[0m: \u001b[1msubprocess-exited-with-error\u001b[0m\n",
            "\n",
            "\u001b[31m×\u001b[0m \u001b[32mGetting requirements to build wheel\u001b[0m did not run successfully.\n",
            "\u001b[31m│\u001b[0m exit code: \u001b[1;36m1\u001b[0m\n",
            "\u001b[31m╰─>\u001b[0m See above for output.\n",
            "\n",
            "\u001b[1;35mnote\u001b[0m: This error originates from a subprocess, and is likely not a problem with pip.\n",
            "Collecting alepython\n",
            "  Cloning https://github.com/MaximeJumelle/ALEPython.git (to revision dev) to /tmp/pip-install-hz678_8e/alepython_88db5c54ef1942df80b33b5ebb024f05\n",
            "  Running command git clone --filter=blob:none --quiet https://github.com/MaximeJumelle/ALEPython.git /tmp/pip-install-hz678_8e/alepython_88db5c54ef1942df80b33b5ebb024f05\n",
            "  Resolved https://github.com/MaximeJumelle/ALEPython.git to commit 286350ab674980a32270db2a0b5ccca1380312a7\n",
            "  Preparing metadata (setup.py) ... \u001b[?25l\u001b[?25hdone\n",
            "Requirement already satisfied: loguru>=0.4.1 in /usr/local/lib/python3.12/dist-packages (from alepython) (0.7.3)\n",
            "Requirement already satisfied: matplotlib>=2.2.3 in /usr/local/lib/python3.12/dist-packages (from alepython) (3.10.0)\n",
            "Requirement already satisfied: numpy>=1.15.4 in /usr/local/lib/python3.12/dist-packages (from alepython) (2.0.2)\n",
            "Requirement already satisfied: pandas>=0.22.0 in /usr/local/lib/python3.12/dist-packages (from alepython) (2.2.2)\n",
            "Requirement already satisfied: scipy>=1.1.0 in /usr/local/lib/python3.12/dist-packages (from alepython) (1.16.2)\n",
            "Requirement already satisfied: seaborn>=0.9.0 in /usr/local/lib/python3.12/dist-packages (from alepython) (0.13.2)\n",
            "Requirement already satisfied: contourpy>=1.0.1 in /usr/local/lib/python3.12/dist-packages (from matplotlib>=2.2.3->alepython) (1.3.3)\n",
            "Requirement already satisfied: cycler>=0.10 in /usr/local/lib/python3.12/dist-packages (from matplotlib>=2.2.3->alepython) (0.12.1)\n",
            "Requirement already satisfied: fonttools>=4.22.0 in /usr/local/lib/python3.12/dist-packages (from matplotlib>=2.2.3->alepython) (4.60.0)\n",
            "Requirement already satisfied: kiwisolver>=1.3.1 in /usr/local/lib/python3.12/dist-packages (from matplotlib>=2.2.3->alepython) (1.4.9)\n",
            "Requirement already satisfied: packaging>=20.0 in /usr/local/lib/python3.12/dist-packages (from matplotlib>=2.2.3->alepython) (25.0)\n",
            "Requirement already satisfied: pillow>=8 in /usr/local/lib/python3.12/dist-packages (from matplotlib>=2.2.3->alepython) (11.3.0)\n",
            "Requirement already satisfied: pyparsing>=2.3.1 in /usr/local/lib/python3.12/dist-packages (from matplotlib>=2.2.3->alepython) (3.2.4)\n",
            "Requirement already satisfied: python-dateutil>=2.7 in /usr/local/lib/python3.12/dist-packages (from matplotlib>=2.2.3->alepython) (2.9.0.post0)\n",
            "Requirement already satisfied: pytz>=2020.1 in /usr/local/lib/python3.12/dist-packages (from pandas>=0.22.0->alepython) (2025.2)\n",
            "Requirement already satisfied: tzdata>=2022.7 in /usr/local/lib/python3.12/dist-packages (from pandas>=0.22.0->alepython) (2025.2)\n",
            "Requirement already satisfied: six>=1.5 in /usr/local/lib/python3.12/dist-packages (from python-dateutil>=2.7->matplotlib>=2.2.3->alepython) (1.17.0)\n",
            "Requirement already satisfied: PyALE in /usr/local/lib/python3.12/dist-packages (1.2.0)\n",
            "Requirement already satisfied: numpy in /usr/local/lib/python3.12/dist-packages (from PyALE) (2.0.2)\n",
            "Requirement already satisfied: pandas in /usr/local/lib/python3.12/dist-packages (from PyALE) (2.2.2)\n",
            "Requirement already satisfied: matplotlib in /usr/local/lib/python3.12/dist-packages (from PyALE) (3.10.0)\n",
            "Requirement already satisfied: scikit-learn in /usr/local/lib/python3.12/dist-packages (from PyALE) (1.6.1)\n",
            "Requirement already satisfied: scipy in /usr/local/lib/python3.12/dist-packages (from PyALE) (1.16.2)\n",
            "Requirement already satisfied: statsmodels in /usr/local/lib/python3.12/dist-packages (from PyALE) (0.14.5)\n",
            "Requirement already satisfied: contourpy>=1.0.1 in /usr/local/lib/python3.12/dist-packages (from matplotlib->PyALE) (1.3.3)\n",
            "Requirement already satisfied: cycler>=0.10 in /usr/local/lib/python3.12/dist-packages (from matplotlib->PyALE) (0.12.1)\n",
            "Requirement already satisfied: fonttools>=4.22.0 in /usr/local/lib/python3.12/dist-packages (from matplotlib->PyALE) (4.60.0)\n",
            "Requirement already satisfied: kiwisolver>=1.3.1 in /usr/local/lib/python3.12/dist-packages (from matplotlib->PyALE) (1.4.9)\n",
            "Requirement already satisfied: packaging>=20.0 in /usr/local/lib/python3.12/dist-packages (from matplotlib->PyALE) (25.0)\n",
            "Requirement already satisfied: pillow>=8 in /usr/local/lib/python3.12/dist-packages (from matplotlib->PyALE) (11.3.0)\n",
            "Requirement already satisfied: pyparsing>=2.3.1 in /usr/local/lib/python3.12/dist-packages (from matplotlib->PyALE) (3.2.4)\n",
            "Requirement already satisfied: python-dateutil>=2.7 in /usr/local/lib/python3.12/dist-packages (from matplotlib->PyALE) (2.9.0.post0)\n",
            "Requirement already satisfied: pytz>=2020.1 in /usr/local/lib/python3.12/dist-packages (from pandas->PyALE) (2025.2)\n",
            "Requirement already satisfied: tzdata>=2022.7 in /usr/local/lib/python3.12/dist-packages (from pandas->PyALE) (2025.2)\n",
            "Requirement already satisfied: joblib>=1.2.0 in /usr/local/lib/python3.12/dist-packages (from scikit-learn->PyALE) (1.5.2)\n",
            "Requirement already satisfied: threadpoolctl>=3.1.0 in /usr/local/lib/python3.12/dist-packages (from scikit-learn->PyALE) (3.6.0)\n",
            "Requirement already satisfied: patsy>=0.5.6 in /usr/local/lib/python3.12/dist-packages (from statsmodels->PyALE) (1.0.1)\n",
            "Requirement already satisfied: six>=1.5 in /usr/local/lib/python3.12/dist-packages (from python-dateutil>=2.7->matplotlib->PyALE) (1.17.0)\n"
          ]
        }
      ],
      "source": [
        "!pip install numpy==1.25.2 pandas==2.0.3 scikit-learn==1.2.2 shap==0.45.1\n",
        "!pip install git+https://github.com/MaximeJumelle/ALEPython.git@dev#egg=alepython\n",
        "!pip install PyALE\n"
      ]
    },
    {
      "cell_type": "markdown",
      "id": "15806dfa",
      "metadata": {
        "id": "15806dfa"
      },
      "source": [
        "# Run in Co-lab\n"
      ]
    },
    {
      "cell_type": "code",
      "execution_count": 6,
      "id": "14608c7f",
      "metadata": {
        "id": "14608c7f",
        "outputId": "40210fd2-6abb-4550-8989-9b1bc7df0535",
        "colab": {
          "base_uri": "https://localhost:8080/"
        }
      },
      "outputs": [
        {
          "output_type": "stream",
          "name": "stdout",
          "text": [
            "Running in Google Colab...\n",
            "Mounted at /content/drive\n",
            "/content/drive/MyDrive/Duke ME AIPI/Explainable AI\n",
            "/content/drive/MyDrive/Duke ME AIPI/Explainable AI/explainable-techniques-II\n",
            "fatal: not a git repository (or any parent up to mount point /content)\n",
            "Stopping at filesystem boundary (GIT_DISCOVERY_ACROSS_FILESYSTEM not set).\n",
            "/content/drive/MyDrive/Duke ME AIPI/Explainable AI\n",
            "/content/drive/MyDrive/Duke ME AIPI/Explainable AI/explainable-techniques-II\n",
            "Requirement already satisfied: pandas in /usr/local/lib/python3.12/dist-packages (2.2.2)\n",
            "Requirement already satisfied: numpy in /usr/local/lib/python3.12/dist-packages (2.0.2)\n",
            "Requirement already satisfied: matplotlib in /usr/local/lib/python3.12/dist-packages (3.10.0)\n",
            "Requirement already satisfied: seaborn in /usr/local/lib/python3.12/dist-packages (0.13.2)\n",
            "Requirement already satisfied: scikit-learn in /usr/local/lib/python3.12/dist-packages (1.6.1)\n",
            "Requirement already satisfied: PyALE in /usr/local/lib/python3.12/dist-packages (1.2.0)\n",
            "Requirement already satisfied: python-dateutil>=2.8.2 in /usr/local/lib/python3.12/dist-packages (from pandas) (2.9.0.post0)\n",
            "Requirement already satisfied: pytz>=2020.1 in /usr/local/lib/python3.12/dist-packages (from pandas) (2025.2)\n",
            "Requirement already satisfied: tzdata>=2022.7 in /usr/local/lib/python3.12/dist-packages (from pandas) (2025.2)\n",
            "Requirement already satisfied: contourpy>=1.0.1 in /usr/local/lib/python3.12/dist-packages (from matplotlib) (1.3.3)\n",
            "Requirement already satisfied: cycler>=0.10 in /usr/local/lib/python3.12/dist-packages (from matplotlib) (0.12.1)\n",
            "Requirement already satisfied: fonttools>=4.22.0 in /usr/local/lib/python3.12/dist-packages (from matplotlib) (4.60.0)\n",
            "Requirement already satisfied: kiwisolver>=1.3.1 in /usr/local/lib/python3.12/dist-packages (from matplotlib) (1.4.9)\n",
            "Requirement already satisfied: packaging>=20.0 in /usr/local/lib/python3.12/dist-packages (from matplotlib) (25.0)\n",
            "Requirement already satisfied: pillow>=8 in /usr/local/lib/python3.12/dist-packages (from matplotlib) (11.3.0)\n",
            "Requirement already satisfied: pyparsing>=2.3.1 in /usr/local/lib/python3.12/dist-packages (from matplotlib) (3.2.4)\n",
            "Requirement already satisfied: scipy>=1.6.0 in /usr/local/lib/python3.12/dist-packages (from scikit-learn) (1.16.2)\n",
            "Requirement already satisfied: joblib>=1.2.0 in /usr/local/lib/python3.12/dist-packages (from scikit-learn) (1.5.2)\n",
            "Requirement already satisfied: threadpoolctl>=3.1.0 in /usr/local/lib/python3.12/dist-packages (from scikit-learn) (3.6.0)\n",
            "Requirement already satisfied: statsmodels in /usr/local/lib/python3.12/dist-packages (from PyALE) (0.14.5)\n",
            "Requirement already satisfied: six>=1.5 in /usr/local/lib/python3.12/dist-packages (from python-dateutil>=2.8.2->pandas) (1.17.0)\n",
            "Requirement already satisfied: patsy>=0.5.6 in /usr/local/lib/python3.12/dist-packages (from statsmodels->PyALE) (1.0.1)\n"
          ]
        }
      ],
      "source": [
        "# set up to run in google colab\n",
        "\n",
        "import os\n",
        "\n",
        "# check if running in google colab\n",
        "try:\n",
        "    import google.colab\n",
        "    IN_COLAB = True\n",
        "    from google.colab import drive\n",
        "except ImportError:\n",
        "    IN_COLAB = False\n",
        "\n",
        "repo_name = \"explainable-techniques-II\"\n",
        "git_path = \"https://github.com/lindsaygross/explainable-techniques-II.git\"\n",
        "\n",
        "if IN_COLAB:\n",
        "    print(\"Running in Google Colab...\")\n",
        "\n",
        "    # mount google drive\n",
        "    drive.mount('/content/drive')\n",
        "\n",
        "    # navigate to drive location\n",
        "    drive_path = '/content/drive/MyDrive/Duke ME AIPI/Explainable AI'\n",
        "    os.makedirs(drive_path, exist_ok=True)\n",
        "    %cd \"{drive_path}\"\n",
        "\n",
        "    # clone or update repo\n",
        "    if not os.path.exists(repo_name):\n",
        "        !git clone {git_path}\n",
        "    else:\n",
        "        %cd {repo_name}\n",
        "        !git pull origin main\n",
        "        %cd ..\n",
        "\n",
        "    %cd {repo_name}\n",
        "\n",
        "    # install dependencies\n",
        "    if os.path.exists(\"requirements.txt\"):\n",
        "        !pip install -r requirements.txt\n",
        "    else:\n",
        "        !pip install pandas numpy matplotlib seaborn scikit-learn PyALE\n"
      ]
    },
    {
      "cell_type": "code",
      "execution_count": 7,
      "id": "dc69ebae",
      "metadata": {
        "id": "dc69ebae",
        "outputId": "5f6b4d4a-a6f5-42c7-fe0e-c13ba981d576",
        "colab": {
          "base_uri": "https://localhost:8080/"
        }
      },
      "outputs": [
        {
          "output_type": "stream",
          "name": "stdout",
          "text": [
            "Requirement already satisfied: PyALE in /usr/local/lib/python3.12/dist-packages (1.2.0)\n",
            "Requirement already satisfied: numpy in /usr/local/lib/python3.12/dist-packages (from PyALE) (2.0.2)\n",
            "Requirement already satisfied: pandas in /usr/local/lib/python3.12/dist-packages (from PyALE) (2.2.2)\n",
            "Requirement already satisfied: matplotlib in /usr/local/lib/python3.12/dist-packages (from PyALE) (3.10.0)\n",
            "Requirement already satisfied: scikit-learn in /usr/local/lib/python3.12/dist-packages (from PyALE) (1.6.1)\n",
            "Requirement already satisfied: scipy in /usr/local/lib/python3.12/dist-packages (from PyALE) (1.16.2)\n",
            "Requirement already satisfied: statsmodels in /usr/local/lib/python3.12/dist-packages (from PyALE) (0.14.5)\n",
            "Requirement already satisfied: contourpy>=1.0.1 in /usr/local/lib/python3.12/dist-packages (from matplotlib->PyALE) (1.3.3)\n",
            "Requirement already satisfied: cycler>=0.10 in /usr/local/lib/python3.12/dist-packages (from matplotlib->PyALE) (0.12.1)\n",
            "Requirement already satisfied: fonttools>=4.22.0 in /usr/local/lib/python3.12/dist-packages (from matplotlib->PyALE) (4.60.0)\n",
            "Requirement already satisfied: kiwisolver>=1.3.1 in /usr/local/lib/python3.12/dist-packages (from matplotlib->PyALE) (1.4.9)\n",
            "Requirement already satisfied: packaging>=20.0 in /usr/local/lib/python3.12/dist-packages (from matplotlib->PyALE) (25.0)\n",
            "Requirement already satisfied: pillow>=8 in /usr/local/lib/python3.12/dist-packages (from matplotlib->PyALE) (11.3.0)\n",
            "Requirement already satisfied: pyparsing>=2.3.1 in /usr/local/lib/python3.12/dist-packages (from matplotlib->PyALE) (3.2.4)\n",
            "Requirement already satisfied: python-dateutil>=2.7 in /usr/local/lib/python3.12/dist-packages (from matplotlib->PyALE) (2.9.0.post0)\n",
            "Requirement already satisfied: pytz>=2020.1 in /usr/local/lib/python3.12/dist-packages (from pandas->PyALE) (2025.2)\n",
            "Requirement already satisfied: tzdata>=2022.7 in /usr/local/lib/python3.12/dist-packages (from pandas->PyALE) (2025.2)\n",
            "Requirement already satisfied: joblib>=1.2.0 in /usr/local/lib/python3.12/dist-packages (from scikit-learn->PyALE) (1.5.2)\n",
            "Requirement already satisfied: threadpoolctl>=3.1.0 in /usr/local/lib/python3.12/dist-packages (from scikit-learn->PyALE) (3.6.0)\n",
            "Requirement already satisfied: patsy>=0.5.6 in /usr/local/lib/python3.12/dist-packages (from statsmodels->PyALE) (1.0.1)\n",
            "Requirement already satisfied: six>=1.5 in /usr/local/lib/python3.12/dist-packages (from python-dateutil>=2.7->matplotlib->PyALE) (1.17.0)\n"
          ]
        }
      ],
      "source": [
        "# Data\n",
        "import numpy as np\n",
        "import pandas as pd\n",
        "import matplotlib.pyplot as plt\n",
        "import matplotlib.pyplot as plt\n",
        "import seaborn as sns\n",
        "\n",
        "\n",
        "# Models\n",
        "\n",
        "from sklearn.model_selection import train_test_split\n",
        "from sklearn.ensemble import RandomForestRegressor\n",
        "from sklearn.metrics import mean_squared_error, r2_score\n",
        "import numpy as np\n",
        "from sklearn.inspection import PartialDependenceDisplay\n",
        "\n",
        "\n",
        "# ALE\n",
        "%pip install PyALE\n",
        "from PyALE import ale\n",
        "\n",
        "\n",
        "np.random.seed(1) # For reproducibility"
      ]
    },
    {
      "cell_type": "markdown",
      "source": [
        "# Don't run below code unless running through notebook"
      ],
      "metadata": {
        "id": "wh4WRAVDHsEn"
      },
      "id": "wh4WRAVDHsEn"
    },
    {
      "cell_type": "code",
      "source": [
        "# load data in notebooks\n",
        "df = pd.read_csv(\"Sleep_health_and_lifestyle_dataset.csv\") #for notebook"
      ],
      "metadata": {
        "id": "_vYXe4Q4HpNC"
      },
      "id": "_vYXe4Q4HpNC",
      "execution_count": null,
      "outputs": []
    },
    {
      "cell_type": "markdown",
      "id": "f95ef6fb",
      "metadata": {
        "id": "f95ef6fb"
      },
      "source": [
        "## Dataset\n",
        "We are using the **Lifestyle and Sleep Health dataset**, which contains 374 rows and 13 columns.  \n",
        "The dataset includes demographic, lifestyle, and health-related features such as:\n",
        "\n",
        "- **Demographics:** Gender, Age, Occupation  \n",
        "- **Lifestyle factors:** Sleep Duration, Physical Activity Level, Daily Steps  \n",
        "- **Health indicators:** Stress Level, BMI Category, Blood Pressure, Heart Rate  \n",
        "- **Targets/outcomes:** Quality of Sleep (numeric), Sleep Disorder (categorical)  \n",
        "\n",
        "For modeling, we focus on **Quality of Sleep** as the target variable.\n"
      ]
    },
    {
      "cell_type": "markdown",
      "source": [
        "# Don't run below code unless running through Co-lab"
      ],
      "metadata": {
        "id": "hsP_G9I5HxGc"
      },
      "id": "hsP_G9I5HxGc"
    },
    {
      "cell_type": "code",
      "execution_count": 5,
      "id": "dd442ac3",
      "metadata": {
        "id": "dd442ac3",
        "outputId": "212db1f6-953b-4a0b-a691-e03d5acefe7b",
        "colab": {
          "base_uri": "https://localhost:8080/",
          "height": 373
        }
      },
      "outputs": [
        {
          "output_type": "stream",
          "name": "stdout",
          "text": [
            "Mounted at /content/drive\n"
          ]
        },
        {
          "output_type": "error",
          "ename": "FileNotFoundError",
          "evalue": "[Errno 2] No such file or directory: 'Sleep_health_and_lifestyle_dataset.csv'",
          "traceback": [
            "\u001b[0;31m---------------------------------------------------------------------------\u001b[0m",
            "\u001b[0;31mFileNotFoundError\u001b[0m                         Traceback (most recent call last)",
            "\u001b[0;32m/tmp/ipython-input-3572506044.py\u001b[0m in \u001b[0;36m<cell line: 0>\u001b[0;34m()\u001b[0m\n\u001b[1;32m     11\u001b[0m \u001b[0;31m# load the dataset\u001b[0m\u001b[0;34m\u001b[0m\u001b[0;34m\u001b[0m\u001b[0m\n\u001b[1;32m     12\u001b[0m \u001b[0mdf\u001b[0m \u001b[0;34m=\u001b[0m \u001b[0mpd\u001b[0m\u001b[0;34m.\u001b[0m\u001b[0mread_csv\u001b[0m\u001b[0;34m(\u001b[0m\u001b[0mfile_path\u001b[0m\u001b[0;34m)\u001b[0m \u001b[0;31m# for co-lab\u001b[0m\u001b[0;34m\u001b[0m\u001b[0;34m\u001b[0m\u001b[0m\n\u001b[0;32m---> 13\u001b[0;31m \u001b[0mdf\u001b[0m \u001b[0;34m=\u001b[0m \u001b[0mpd\u001b[0m\u001b[0;34m.\u001b[0m\u001b[0mread_csv\u001b[0m\u001b[0;34m(\u001b[0m\u001b[0;34m\"Sleep_health_and_lifestyle_dataset.csv\"\u001b[0m\u001b[0;34m)\u001b[0m \u001b[0;31m#for notebook\u001b[0m\u001b[0;34m\u001b[0m\u001b[0;34m\u001b[0m\u001b[0m\n\u001b[0m\u001b[1;32m     14\u001b[0m \u001b[0;34m\u001b[0m\u001b[0m\n\u001b[1;32m     15\u001b[0m \u001b[0;31m# quick check\u001b[0m\u001b[0;34m\u001b[0m\u001b[0;34m\u001b[0m\u001b[0m\n",
            "\u001b[0;32m/usr/local/lib/python3.12/dist-packages/pandas/io/parsers/readers.py\u001b[0m in \u001b[0;36mread_csv\u001b[0;34m(filepath_or_buffer, sep, delimiter, header, names, index_col, usecols, dtype, engine, converters, true_values, false_values, skipinitialspace, skiprows, skipfooter, nrows, na_values, keep_default_na, na_filter, verbose, skip_blank_lines, parse_dates, infer_datetime_format, keep_date_col, date_parser, date_format, dayfirst, cache_dates, iterator, chunksize, compression, thousands, decimal, lineterminator, quotechar, quoting, doublequote, escapechar, comment, encoding, encoding_errors, dialect, on_bad_lines, delim_whitespace, low_memory, memory_map, float_precision, storage_options, dtype_backend)\u001b[0m\n\u001b[1;32m   1024\u001b[0m     \u001b[0mkwds\u001b[0m\u001b[0;34m.\u001b[0m\u001b[0mupdate\u001b[0m\u001b[0;34m(\u001b[0m\u001b[0mkwds_defaults\u001b[0m\u001b[0;34m)\u001b[0m\u001b[0;34m\u001b[0m\u001b[0;34m\u001b[0m\u001b[0m\n\u001b[1;32m   1025\u001b[0m \u001b[0;34m\u001b[0m\u001b[0m\n\u001b[0;32m-> 1026\u001b[0;31m     \u001b[0;32mreturn\u001b[0m \u001b[0m_read\u001b[0m\u001b[0;34m(\u001b[0m\u001b[0mfilepath_or_buffer\u001b[0m\u001b[0;34m,\u001b[0m \u001b[0mkwds\u001b[0m\u001b[0;34m)\u001b[0m\u001b[0;34m\u001b[0m\u001b[0;34m\u001b[0m\u001b[0m\n\u001b[0m\u001b[1;32m   1027\u001b[0m \u001b[0;34m\u001b[0m\u001b[0m\n\u001b[1;32m   1028\u001b[0m \u001b[0;34m\u001b[0m\u001b[0m\n",
            "\u001b[0;32m/usr/local/lib/python3.12/dist-packages/pandas/io/parsers/readers.py\u001b[0m in \u001b[0;36m_read\u001b[0;34m(filepath_or_buffer, kwds)\u001b[0m\n\u001b[1;32m    618\u001b[0m \u001b[0;34m\u001b[0m\u001b[0m\n\u001b[1;32m    619\u001b[0m     \u001b[0;31m# Create the parser.\u001b[0m\u001b[0;34m\u001b[0m\u001b[0;34m\u001b[0m\u001b[0m\n\u001b[0;32m--> 620\u001b[0;31m     \u001b[0mparser\u001b[0m \u001b[0;34m=\u001b[0m \u001b[0mTextFileReader\u001b[0m\u001b[0;34m(\u001b[0m\u001b[0mfilepath_or_buffer\u001b[0m\u001b[0;34m,\u001b[0m \u001b[0;34m**\u001b[0m\u001b[0mkwds\u001b[0m\u001b[0;34m)\u001b[0m\u001b[0;34m\u001b[0m\u001b[0;34m\u001b[0m\u001b[0m\n\u001b[0m\u001b[1;32m    621\u001b[0m \u001b[0;34m\u001b[0m\u001b[0m\n\u001b[1;32m    622\u001b[0m     \u001b[0;32mif\u001b[0m \u001b[0mchunksize\u001b[0m \u001b[0;32mor\u001b[0m \u001b[0miterator\u001b[0m\u001b[0;34m:\u001b[0m\u001b[0;34m\u001b[0m\u001b[0;34m\u001b[0m\u001b[0m\n",
            "\u001b[0;32m/usr/local/lib/python3.12/dist-packages/pandas/io/parsers/readers.py\u001b[0m in \u001b[0;36m__init__\u001b[0;34m(self, f, engine, **kwds)\u001b[0m\n\u001b[1;32m   1618\u001b[0m \u001b[0;34m\u001b[0m\u001b[0m\n\u001b[1;32m   1619\u001b[0m         \u001b[0mself\u001b[0m\u001b[0;34m.\u001b[0m\u001b[0mhandles\u001b[0m\u001b[0;34m:\u001b[0m \u001b[0mIOHandles\u001b[0m \u001b[0;34m|\u001b[0m \u001b[0;32mNone\u001b[0m \u001b[0;34m=\u001b[0m \u001b[0;32mNone\u001b[0m\u001b[0;34m\u001b[0m\u001b[0;34m\u001b[0m\u001b[0m\n\u001b[0;32m-> 1620\u001b[0;31m         \u001b[0mself\u001b[0m\u001b[0;34m.\u001b[0m\u001b[0m_engine\u001b[0m \u001b[0;34m=\u001b[0m \u001b[0mself\u001b[0m\u001b[0;34m.\u001b[0m\u001b[0m_make_engine\u001b[0m\u001b[0;34m(\u001b[0m\u001b[0mf\u001b[0m\u001b[0;34m,\u001b[0m \u001b[0mself\u001b[0m\u001b[0;34m.\u001b[0m\u001b[0mengine\u001b[0m\u001b[0;34m)\u001b[0m\u001b[0;34m\u001b[0m\u001b[0;34m\u001b[0m\u001b[0m\n\u001b[0m\u001b[1;32m   1621\u001b[0m \u001b[0;34m\u001b[0m\u001b[0m\n\u001b[1;32m   1622\u001b[0m     \u001b[0;32mdef\u001b[0m \u001b[0mclose\u001b[0m\u001b[0;34m(\u001b[0m\u001b[0mself\u001b[0m\u001b[0;34m)\u001b[0m \u001b[0;34m->\u001b[0m \u001b[0;32mNone\u001b[0m\u001b[0;34m:\u001b[0m\u001b[0;34m\u001b[0m\u001b[0;34m\u001b[0m\u001b[0m\n",
            "\u001b[0;32m/usr/local/lib/python3.12/dist-packages/pandas/io/parsers/readers.py\u001b[0m in \u001b[0;36m_make_engine\u001b[0;34m(self, f, engine)\u001b[0m\n\u001b[1;32m   1878\u001b[0m                 \u001b[0;32mif\u001b[0m \u001b[0;34m\"b\"\u001b[0m \u001b[0;32mnot\u001b[0m \u001b[0;32min\u001b[0m \u001b[0mmode\u001b[0m\u001b[0;34m:\u001b[0m\u001b[0;34m\u001b[0m\u001b[0;34m\u001b[0m\u001b[0m\n\u001b[1;32m   1879\u001b[0m                     \u001b[0mmode\u001b[0m \u001b[0;34m+=\u001b[0m \u001b[0;34m\"b\"\u001b[0m\u001b[0;34m\u001b[0m\u001b[0;34m\u001b[0m\u001b[0m\n\u001b[0;32m-> 1880\u001b[0;31m             self.handles = get_handle(\n\u001b[0m\u001b[1;32m   1881\u001b[0m                 \u001b[0mf\u001b[0m\u001b[0;34m,\u001b[0m\u001b[0;34m\u001b[0m\u001b[0;34m\u001b[0m\u001b[0m\n\u001b[1;32m   1882\u001b[0m                 \u001b[0mmode\u001b[0m\u001b[0;34m,\u001b[0m\u001b[0;34m\u001b[0m\u001b[0;34m\u001b[0m\u001b[0m\n",
            "\u001b[0;32m/usr/local/lib/python3.12/dist-packages/pandas/io/common.py\u001b[0m in \u001b[0;36mget_handle\u001b[0;34m(path_or_buf, mode, encoding, compression, memory_map, is_text, errors, storage_options)\u001b[0m\n\u001b[1;32m    871\u001b[0m         \u001b[0;32mif\u001b[0m \u001b[0mioargs\u001b[0m\u001b[0;34m.\u001b[0m\u001b[0mencoding\u001b[0m \u001b[0;32mand\u001b[0m \u001b[0;34m\"b\"\u001b[0m \u001b[0;32mnot\u001b[0m \u001b[0;32min\u001b[0m \u001b[0mioargs\u001b[0m\u001b[0;34m.\u001b[0m\u001b[0mmode\u001b[0m\u001b[0;34m:\u001b[0m\u001b[0;34m\u001b[0m\u001b[0;34m\u001b[0m\u001b[0m\n\u001b[1;32m    872\u001b[0m             \u001b[0;31m# Encoding\u001b[0m\u001b[0;34m\u001b[0m\u001b[0;34m\u001b[0m\u001b[0m\n\u001b[0;32m--> 873\u001b[0;31m             handle = open(\n\u001b[0m\u001b[1;32m    874\u001b[0m                 \u001b[0mhandle\u001b[0m\u001b[0;34m,\u001b[0m\u001b[0;34m\u001b[0m\u001b[0;34m\u001b[0m\u001b[0m\n\u001b[1;32m    875\u001b[0m                 \u001b[0mioargs\u001b[0m\u001b[0;34m.\u001b[0m\u001b[0mmode\u001b[0m\u001b[0;34m,\u001b[0m\u001b[0;34m\u001b[0m\u001b[0;34m\u001b[0m\u001b[0m\n",
            "\u001b[0;31mFileNotFoundError\u001b[0m: [Errno 2] No such file or directory: 'Sleep_health_and_lifestyle_dataset.csv'"
          ]
        }
      ],
      "source": [
        "# Load Data\n",
        "\n",
        "from google.colab import drive\n",
        "drive.mount('/content/drive')\n",
        "\n",
        "import pandas as pd\n",
        "\n",
        "# full path to your dataset in Google Drive\n",
        "file_path = \"/content/drive/MyDrive/Duke ME AIPI/Explainable AI/Sleep_health_and_lifestyle_dataset.csv\"\n",
        "\n",
        "# load the dataset\n",
        "df = pd.read_csv(file_path) # for co-lab\n",
        "\n",
        "# quick check\n",
        "print(df.shape)\n",
        "df.head()\n",
        "\n",
        "\n"
      ]
    },
    {
      "cell_type": "code",
      "execution_count": null,
      "id": "298003b7",
      "metadata": {
        "id": "298003b7"
      },
      "outputs": [],
      "source": [
        "# Show first 5 rows\n",
        "df.head()"
      ]
    },
    {
      "cell_type": "code",
      "execution_count": null,
      "id": "335aeadd",
      "metadata": {
        "id": "335aeadd"
      },
      "outputs": [],
      "source": [
        "# Info about columns & data types\n",
        "df.info()"
      ]
    },
    {
      "cell_type": "code",
      "execution_count": null,
      "id": "b7274e3b",
      "metadata": {
        "id": "b7274e3b"
      },
      "outputs": [],
      "source": [
        "# get null values\n",
        "df.isnull().sum()"
      ]
    },
    {
      "cell_type": "code",
      "execution_count": null,
      "id": "1900a75e",
      "metadata": {
        "id": "1900a75e"
      },
      "outputs": [],
      "source": [
        "# Clean data\n",
        "\n",
        "# Drop ID column (not useful for modeling)\n",
        "if \"Person ID\" in df.columns:\n",
        "    df = df.drop(columns=[\"Person ID\"])\n",
        "\n",
        "# Convert Blood Pressure into usable numeric format\n",
        "if \"Blood Pressure\" in df.columns:\n",
        "    bp_split = df[\"Blood Pressure\"].str.split(\"/\", expand=True)\n",
        "    df[\"Systolic_BP\"] = pd.to_numeric(bp_split[0], errors=\"coerce\")\n",
        "    df[\"Diastolic_BP\"] = pd.to_numeric(bp_split[1], errors=\"coerce\")\n",
        "    df = df.drop(columns=[\"Blood Pressure\"])\n",
        "\n",
        "# Check\n",
        "print(df.info())\n",
        "print(df.head())\n"
      ]
    },
    {
      "cell_type": "markdown",
      "id": "84b8e926",
      "metadata": {
        "id": "84b8e926"
      },
      "source": [
        "## Data Cleaning\n",
        "- Dropped the `Person ID` column (not useful for modeling).  \n",
        "- Split `Blood Pressure` into **Systolic_BP** and **Diastolic_BP** for numeric analysis because orginally stored as a string.\n",
        "- Encoded categorical variables (`Gender`, `Occupation`, `BMI Category`, `Sleep Disorder`) using label encoding.  \n",
        "- Used `.info()` and `.head()` to confirm the dataset updates worked correctly.  \n",
        "\n",
        "This step is important because models require numeric inputs, and transforming `Blood Pressure` into numeric values makes it usable for correlation analysis and feature importance to avoid noise or errors.\n",
        "\n",
        "\n",
        "\n"
      ]
    },
    {
      "cell_type": "code",
      "execution_count": null,
      "id": "8aa86871",
      "metadata": {
        "id": "8aa86871"
      },
      "outputs": [],
      "source": [
        "# Encode categorical variables\n",
        "from sklearn.preprocessing import LabelEncoder\n",
        "\n",
        "# Copy dataset to keep a clean version\n",
        "df_model = df.copy()\n",
        "\n",
        "# Identify categorical columns\n",
        "cat_cols = df_model.select_dtypes(include=[\"object\"]).columns\n",
        "print(\"Categorical columns:\", cat_cols)\n",
        "\n",
        "# Encode each categorical column\n",
        "encoders = {}\n",
        "for col in cat_cols:\n",
        "    le = LabelEncoder()\n",
        "    df_model[col] = le.fit_transform(df_model[col])\n",
        "    encoders[col] = le\n",
        "# Used ChatGPT5 at 1:00pm on 9/28/25 to help with the above code block, specifically the line \"df_model[col] = le.fit_transform(df_model[col])\"\n",
        "\n",
        "print(df_model.info())\n",
        "print(df_model.head())\n"
      ]
    },
    {
      "cell_type": "markdown",
      "id": "cf4ed9a2",
      "metadata": {
        "id": "cf4ed9a2"
      },
      "source": [
        "## Encoding Categorical Variables\n",
        "\n",
        "The dataset has several categorical features: **Gender, Occupation, BMI Category, and Sleep Disorder**.  \n",
        "To prepare the data for modeling, these variables were encoded into numeric form using `LabelEncoder`.  \n",
        "\n",
        "- Each category is now represented as an integer (e.g., Male = 1, Female = 0).  \n",
        "- Ensures that all features are numeric.\n",
        "- The dataset now has 13 numeric columns and ready for model training.\n"
      ]
    },
    {
      "cell_type": "code",
      "execution_count": null,
      "id": "89207841",
      "metadata": {
        "id": "89207841"
      },
      "outputs": [],
      "source": [
        "# Exploratory Data Analysis\n",
        "\n",
        "# Summary statistics\n",
        "df.describe()\n",
        "\n",
        "# Distribution plots for key numerical features\n",
        "num_features = [\"Sleep Duration\", \"Quality of Sleep\",\n",
        "                \"Physical Activity Level\", \"Stress Level\",\n",
        "                \"Daily Steps\", \"Heart Rate\"]\n",
        "\n",
        "plt.figure(figsize=(14, 10))\n",
        "for i, col in enumerate(num_features, 1):\n",
        "    plt.subplot(3, 2, i)\n",
        "    sns.histplot(df[col], kde=True, bins=20)\n",
        "    plt.title(f\"Distribution of {col}\")\n",
        "plt.tight_layout()\n",
        "plt.show()\n",
        "# Used ChatGPT5 at 1:05pm on 9/28/25 to help with the above code block, specifically the line \"sns.histplot(df[col], kde=True, bins=20)\"\n"
      ]
    },
    {
      "cell_type": "markdown",
      "id": "e214af8a",
      "metadata": {
        "id": "e214af8a"
      },
      "source": [
        "## Exploratory Data Analysis (EDA)\n",
        "\n",
        "We began with a descriptive analysis of the key numerical features in the dataset.  \n",
        "\n",
        "- **Sleep Duration**: Most values are between **6–8 hours**, with a high around 7 hours.  \n",
        "- **Quality of Sleep**: Concentrated between **6–8**, suggesting **moderate to good** sleep quality for most individuals.  \n",
        "- **Physical Activity Level**: Shows variation across the population, with clusters at mid to high activity levels.  \n",
        "- **Stress Level**: Generally ranges from 3–8, with most people reporting **moderate stress**.  \n",
        "- **Daily Steps**: Peaks around 5,000–8,000 steps, with few very active individuals reaching 10,000.  \n",
        "- **Heart Rate**: Centered around 65–75 bpm, with fewer individuals above 80.  \n",
        "\n",
        "These distributions provide a baseline understanding of lifestyle and health indicators in the dataset that will help with further correlation and model-based analysis using Explainable Techniques.\n"
      ]
    },
    {
      "cell_type": "code",
      "execution_count": null,
      "id": "a85a4cb0",
      "metadata": {
        "id": "a85a4cb0"
      },
      "outputs": [],
      "source": [
        "# Correlation heatmap (numeric only)\n",
        "plt.figure(figsize=(10, 6))\n",
        "numeric_df = df.select_dtypes(include=[np.number])\n",
        "sns.heatmap(numeric_df.corr(), annot=True, cmap=\"coolwarm\", cbar=True, fmt=\".2f\")\n",
        "plt.title(\"Correlation Heatmap of Numeric Features\")\n",
        "plt.show()\n",
        "\n",
        "# Referenced machine_learning_court.ipynb to help with the above code block"
      ]
    },
    {
      "cell_type": "markdown",
      "id": "25f31d5d",
      "metadata": {
        "id": "25f31d5d"
      },
      "source": [
        "## Correlation Analysis (IDP vs ALE)\n",
        "\n",
        "The correlation heatmap shows the following important relationships between features:\n",
        "\n",
        "- **Sleep Duration & Quality of Sleep**: Strong positive correlation (~0.88), suggesting longer sleep is associated with better quality.  \n",
        "- **Stress Level & Quality of Sleep**: Strong negative correlation (~-0.90), indicating higher stress reduces sleep quality.  \n",
        "- **Stress Level & Sleep Duration**: Negative correlation (~-0.81), showing stressed individuals tend to sleep less.  \n",
        "- **Daily Steps & Physical Activity Level**: Positive correlation (~0.77), as expected since both measure activity.  \n",
        "- **Age & Blood Pressure (Systolic/Diastolic)**: Moderate positive correlations, aligning with known health trends.  \n",
        "\n",
        "These results show that when features are correlated, PDP plots can be a little misleading. This is why ALE plots are helpful since they adjust for those dependencies and give a clearer picture. ALE helps adjust for this by focusing on changes within intervals, so its results are less distorted by correlation.  \n"
      ]
    },
    {
      "cell_type": "code",
      "execution_count": null,
      "id": "5aa58fcc",
      "metadata": {
        "id": "5aa58fcc"
      },
      "outputs": [],
      "source": [
        "\n",
        "# Pairwise scatterplots for selected features vs Quality of Sleep\n",
        "num_cols_for_pairplot = [\"Sleep Duration\", \"Stress Level\",\n",
        "                         \"Physical Activity Level\", \"Daily Steps\",\n",
        "                         \"Quality of Sleep\"]\n",
        "\n",
        "sns.pairplot(df[num_cols_for_pairplot], diag_kind=\"hist\") # Used ChatGPT5 at 1:10pm on 9/28/25 to help with diag_kind=\"hist\"\n",
        "plt.suptitle(\"Pairwise Relationships Between Lifestyle Factors and Quality of Sleep\", y=1.02)\n",
        "plt.show()"
      ]
    },
    {
      "cell_type": "markdown",
      "id": "31b9e3e1",
      "metadata": {
        "id": "31b9e3e1"
      },
      "source": [
        "## Feature Relationships\n",
        "\n",
        "The pairplot shows the relationships between key lifestyle factors and **Quality of Sleep**:\n",
        "\n",
        "- **Sleep Duration vs Quality of Sleep**: Clear positive trend — individuals who sleep longer tend to report higher quality.  \n",
        "- **Stress Level vs Quality of Sleep**: Strong negative trend — higher stress is associated with poorer sleep quality.  \n",
        "- **Physical Activity vs Daily Steps**: Positive correlation - confirming both capture related aspects of activity.  \n",
        "- **Activity/Steps vs Quality of Sleep**: Weak to moderate positive relationships - suggesting more active individuals may have better sleep.  \n",
        "\n",
        "These scatterplots reinforce the correlation findings from the heatmap and show how lifestyle factors interact with sleep outcomes."
      ]
    },
    {
      "cell_type": "code",
      "execution_count": null,
      "id": "419b3f3d",
      "metadata": {
        "id": "419b3f3d"
      },
      "outputs": [],
      "source": [
        "# Model Training and Evaluation\n",
        "\n",
        "# Define target and features\n",
        "target = \"Quality of Sleep\"\n",
        "X = df_model.drop(columns=[target])\n",
        "y = df_model[target]\n",
        "\n",
        "#  Train/test split\n",
        "X_train, X_test, y_train, y_test = train_test_split(\n",
        "    X, y, test_size=0.2, random_state=42\n",
        ")\n",
        "\n",
        "# Train model using Random Forest\n",
        "model = RandomForestRegressor(random_state=42, n_estimators=200)\n",
        "model.fit(X_train, y_train)\n",
        "\n",
        "# Evaluate\n",
        "y_pred = model.predict(X_test)\n",
        "mse = mean_squared_error(y_test, y_pred)\n",
        "rmse = np.sqrt(mse)\n",
        "r2 = r2_score(y_test, y_pred)\n",
        "\n",
        "print(f\"RMSE: {rmse:.2f}\") # Lower RMSE means better fit\n",
        "print(f\"R²: {r2:.2f}\") # R² close to 1 means a good fit\n"
      ]
    },
    {
      "cell_type": "markdown",
      "id": "f4b1c5b0",
      "metadata": {
        "id": "f4b1c5b0"
      },
      "source": [
        "## Model Training and Evaluation\n",
        "\n",
        "We trained a **Random Forest Regressor** using 80/20 train-test split, with **Quality of Sleep** as the target variable.  \n",
        "\n",
        "- The model achieved **RMSE = 0.13** and **R² = 0.99**, indicating very strong predictive performance.  \n",
        "- Used Random Forest because it can handle non-linear relationships and interactions between features which are important for lifestyle and health data.  \n"
      ]
    },
    {
      "cell_type": "markdown",
      "id": "8f889405",
      "metadata": {
        "id": "8f889405"
      },
      "source": [
        "## Partial Dependence Plots (PDP)\n",
        "\n",
        "A Partial Dependence Plot shows the marginal effect one or two features have on the predicted outcome of a model.\n",
        "\n",
        "**How it Works:**\n",
        "1. Select feature of interest\n",
        "2. For every instance in training dataset:\n",
        "*  Keep all other features the same, create variants of the instance by replacing the feature’s value with values from a grid\n",
        "*  Make predictions with the black box model for newly created instances so that there is a set of points for an instance with the feature value from the grid and the respective predictions\n",
        "3. Average across all instances and plot\n",
        "\n"
      ]
    },
    {
      "cell_type": "code",
      "execution_count": null,
      "id": "adfd206f",
      "metadata": {
        "id": "adfd206f"
      },
      "outputs": [],
      "source": [
        "# Partial Dependence Plots (PDP) and Individual Conditional Expectation (ICE) plots\n",
        "\n",
        "# Pick features to analyze\n",
        "features_to_plot = [\"Sleep Duration\", \"Stress Level\", \"Physical Activity Level\"]\n",
        "\n",
        "# PDP (Partial Dependence Plots)\n",
        "fig, ax = plt.subplots(figsize=(12, 6))\n",
        "PartialDependenceDisplay.from_estimator(\n",
        "    model, X_train, features_to_plot, kind=\"average\", ax=ax\n",
        ")\n",
        "# Referenced global_explanations.ipynb to help with the above code block\n",
        "\n",
        "plt.suptitle(\"Partial Dependence Plots (PDP) for Lifestyle Features\", y=1.05)\n",
        "plt.show()"
      ]
    },
    {
      "cell_type": "markdown",
      "id": "c4321080",
      "metadata": {
        "id": "c4321080"
      },
      "source": [
        "## Interpretation of Partial Dependence Plots (PDP)\n",
        "\n",
        "The PDP plots show how each lifestyle feature relates to the model’s predictions:\n",
        "\n",
        "- **Sleep Duration**: As sleep duration increases, the predicted outcome generally goes up. The increase around 7.5–8 hours suggests the model thinks longer sleep has a strong positive effect.  \n",
        "- **Stress Level**: Higher stress levels are linked to lower predicted outcomes. The biggest drop happens between stress levels 5–6, meaning stress has a significant role.  \n",
        "- **Physical Activity Level**: The line is flat indicating the model doesn’t see much of a relationship between physical activity and the outcome.  \n",
        "\n",
        "Overall, the model seems most sensitive to **sleep and stress**, and not senstive to physical activity.  \n"
      ]
    },
    {
      "cell_type": "markdown",
      "id": "97291af9",
      "metadata": {
        "id": "97291af9"
      },
      "source": [
        "# Individual Conditional Expectation (ICE)\n",
        "\n",
        "An Individual Conditional Expectation (ICE) plot shows how the predicted outcome of a model changes with a feature **for each individual instance** in the dataset.\n",
        "\n",
        "**How it Works:**\n",
        "1. Select feature of interest  \n",
        "2. For a single instance in the training dataset:  \n",
        "   * Keep all other features fixed  \n",
        "   * Replace the feature’s value with values from a grid  \n",
        "   * Make predictions with the model to see how the outcome changes for that instance  \n",
        "3. Repeat this process for all instances in the dataset and plot each line separately  \n",
        "4. The result is a collection of curves, one per instance, showing the individualized relationship between the feature and the prediction  \n",
        "\n"
      ]
    },
    {
      "cell_type": "code",
      "execution_count": null,
      "id": "f677231f",
      "metadata": {
        "id": "f677231f"
      },
      "outputs": [],
      "source": [
        "# ICE (Individual Conditional Expectation)\n",
        "fig, ax = plt.subplots(figsize=(12, 6))\n",
        "PartialDependenceDisplay.from_estimator( # Used ChatGPT5 at 1:20pm on 9/28/25 to ensure correct use of PartialDependenceDisplay\n",
        "    model, X_train, features_to_plot, kind=\"individual\", ax=ax\n",
        ")\n",
        "plt.suptitle(\"Individual Conditional Expectation (ICE) for Lifestyle Features\", y=1.05)\n",
        "plt.show()"
      ]
    },
    {
      "cell_type": "markdown",
      "id": "ae9723a4",
      "metadata": {
        "id": "ae9723a4"
      },
      "source": [
        "## Interpretation of Individual Conditional Expectation (ICE)\n",
        "\n",
        "The ICE plots show how each individual data point responds to changes in the lifestyle features:\n",
        "\n",
        "- **Sleep Duration**: Most lines go up as sleep duration increases, which means more sleep usually leads to higher predicted outcomes. The spread between lines shows that the effect isn’t the same for everyone; some people benefit more from sleep than others.  \n",
        "- **Stress Level**: The lines mostly have a downwards slope, meaning that higher stress typically lowers the predictions. The different positions of the lines show variation across individuals, but the overall trend is still negative.  \n",
        "- **Physical Activity Level**: The lines are basically flat, suggesting physical activity doesn’t change the prediction much.\n",
        "\n",
        "Overall, ICE clearly shows that sleep and stress have strong, but varied effects depending on the person, while physical activity doesn’t have a large effect on the model.  \n"
      ]
    },
    {
      "cell_type": "markdown",
      "id": "61759d3e",
      "metadata": {
        "id": "61759d3e"
      },
      "source": [
        "# Accumulated Local Effects (ALE)\n",
        "\n",
        "An Accumulated Local Effects (ALE) plot shows how a feature influences the predicted outcome of a model. Unlike PDP, ALE avoids the assumption that features are independent. ALE is less biased when features are correlated.\n",
        "\n",
        "**How it Works:**\n",
        "1. Select feature of interest  \n",
        "2. Divide the feature’s values into intervals (bins)  \n",
        "3. For each interval:  \n",
        "   * Calculate how much the model prediction changes when the feature moves within that interval, keeping all other features fixed  \n",
        "   * Average these local changes across all instances that fall into the interval  \n",
        "4. Accumulate these average effects over the intervals and center them around zero  \n",
        "5. Plot the accumulated effects to show how the feature impacts predictions across its range  \n"
      ]
    },
    {
      "cell_type": "code",
      "execution_count": null,
      "id": "8a790d93",
      "metadata": {
        "id": "8a790d93"
      },
      "outputs": [],
      "source": [
        "# Used ChatGPT5 at 1:20pm on 9/28/25 to help with format for below code blocks\n",
        "\n",
        "# ALE for Sleep Duration\n",
        "ale_plot1 = ale(\n",
        "    X=X_train, model=model, feature=[\"Sleep Duration\"],\n",
        "    grid_size=20, include_CI=False\n",
        ")\n",
        "\n",
        "# ALE for Stress Level\n",
        "ale_plot2 = ale(\n",
        "    X=X_train, model=model, feature=[\"Stress Level\"],\n",
        "    grid_size=20, include_CI=False\n",
        ")\n",
        "\n",
        "# ALE for Physical Activity Level\n",
        "ale_plot3 = ale(\n",
        "    X=X_train, model=model, feature=[\"Physical Activity Level\"],\n",
        "    grid_size=20, include_CI=False\n",
        ")\n"
      ]
    },
    {
      "cell_type": "markdown",
      "id": "dd9248f5",
      "metadata": {
        "id": "dd9248f5"
      },
      "source": [
        "## Interpretation of Accumulated Local Effects (ALE)\n",
        "\n",
        "The ALE plots show how each feature locally affects the model’s predictions while taking correlations into account:\n",
        "\n",
        "- **Sleep Duration**: The effect increases as sleep goes up. Around 7.5–8 hours, the jump is especially strong, meaning the model predicts longer sleep has a clear positive influence.  \n",
        "- **Stress Level**: The plot shows a drop after stress levels of about 5–6, which reinforces the finding that high stress hurts the prediction. Lower stress levels stay more stable.  \n",
        "- **Physical Activity Level**: The effect is almost flat, besides the bump around 40–50 physical activity level, and then it settles back down. This suggests activity doesn’t move the prediction much.  \n",
        "\n",
        "Overall, ALE confirms that sleep and stress matter the most, while physical activity doesn’t play a big role in the model.  \n"
      ]
    },
    {
      "cell_type": "markdown",
      "id": "0e1b621c",
      "metadata": {
        "id": "0e1b621c"
      },
      "source": [
        "## PDP vs ALE Comparison\n",
        "\n",
        "When comparing the PDP and ALE plots, the overall trends are similar for **Sleep Duration** and **Stress Level**. Both methods show that longer sleep has a positive effect, while higher stress lowers the outcome.  \n",
        "\n",
        "The main difference is that PDP can sometimes exaggerate the relationship if features are correlated, because it averages over all instances without accounting for feature dependencies. ALE looks at local effects within intervals of the feature, which makes it less biased. For example, in the **Stress Level** plots, PDP suggested a sharp drop, but ALE smoothed this out and showed a more gradual decline, which is likely a more realistic effect.  \n",
        "\n",
        "---"
      ]
    },
    {
      "cell_type": "markdown",
      "id": "0ee7c47c",
      "metadata": {
        "id": "0ee7c47c"
      },
      "source": [
        "## Takeaways\n",
        "\n",
        "Each Explainable techniques adds a unique insight:  \n",
        "\n",
        "- **PDP** shows the average global trend across all individuals.  \n",
        "- **ICE** highlights the variation between individuals, showing that not everyone responds to lifestyle factors the same way.  \n",
        "- **ALE** shows a more reliable picture when features are correlated, since it avoids the independence assumption that PDP makes.  \n",
        "\n",
        "Across all three techniques, we can conclude that **Sleep Duration and Stress Level are the most important lifestyle factors influencing the model’s predictions**, while **Physical Activity Level has little effect**. PDP and ICE helped show the strength and variation of these effects, and ALE confirmed that the results are not just distortions of correlation.  "
      ]
    }
  ],
  "metadata": {
    "kernelspec": {
      "display_name": "Python 3",
      "name": "python3"
    },
    "language_info": {
      "codemirror_mode": {
        "name": "ipython",
        "version": 3
      },
      "file_extension": ".py",
      "mimetype": "text/x-python",
      "name": "python",
      "nbconvert_exporter": "python",
      "pygments_lexer": "ipython3",
      "version": "3.10.0"
    },
    "colab": {
      "provenance": [],
      "gpuType": "T4"
    },
    "accelerator": "GPU"
  },
  "nbformat": 4,
  "nbformat_minor": 5
}